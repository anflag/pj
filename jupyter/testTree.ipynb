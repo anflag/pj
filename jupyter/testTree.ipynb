{
 "cells": [
  {
   "cell_type": "code",
   "execution_count": 2,
   "metadata": {},
   "outputs": [
    {
     "name": "stdout",
     "output_type": "stream",
     "text": [
      "0.9111111111111111\n",
      "              precision    recall  f1-score   support\n",
      "\n",
      "           0       1.00      1.00      1.00        11\n",
      "           1       1.00      0.79      0.88        19\n",
      "           2       0.79      1.00      0.88        15\n",
      "\n",
      "   micro avg       0.91      0.91      0.91        45\n",
      "   macro avg       0.93      0.93      0.92        45\n",
      "weighted avg       0.93      0.91      0.91        45\n",
      "\n"
     ]
    },
    {
     "data": {
      "text/plain": [
       "'\\n  precision    recall  f1-score   support\\n\\n          0       1.00      1.00      1.00        11\\n          1       1.00      0.79      0.88        19\\n          2       0.79      1.00      0.88        15\\n\\navg / total       0.93      0.91      0.91        45\\n'"
      ]
     },
     "execution_count": 2,
     "metadata": {},
     "output_type": "execute_result"
    }
   ],
   "source": [
    "\n",
    "from sklearn.datasets import load_iris\n",
    "from sklearn import tree\n",
    "from sklearn.model_selection import train_test_split\n",
    "# 加载数据集\n",
    "iris = load_iris()\n",
    "# 引入训练模型\n",
    "clf = tree.DecisionTreeClassifier()\n",
    "X = iris.data\n",
    "y = iris.target\n",
    "# 分割数据集\n",
    "X_train,X_test,y_train,y_test = train_test_split(X,y,test_size=0.3,random_state=33)\n",
    "# 开始训练\n",
    "clf.fit(X_train,y_train)\n",
    "# 预测\n",
    "y_predict=clf.predict(X_test)\n",
    "from sklearn.metrics import classification_report\n",
    "#显示预测的准确性\n",
    "# X : array-like, shape = (n_samples, n_features)\n",
    "#        Test samples.\n",
    "#    y : array-like, shape = (n_samples) or (n_samples, n_outputs)\n",
    "#        True labels for X.\n",
    "\n",
    "print(clf.score(X_test,y_test))# 输出结果为0.9111111111111111\n",
    "print(classification_report(y_predict,y_test))\n",
    "# 输出结果为\n",
    "'''\n",
    "  precision    recall  f1-score   support\n",
    "\n",
    "          0       1.00      1.00      1.00        11\n",
    "          1       1.00      0.79      0.88        19\n",
    "          2       0.79      1.00      0.88        15\n",
    "\n",
    "avg / total       0.93      0.91      0.91        45\n",
    "'''"
   ]
  },
  {
   "cell_type": "code",
   "execution_count": null,
   "metadata": {},
   "outputs": [],
   "source": []
  }
 ],
 "metadata": {
  "kernelspec": {
   "display_name": "Python 3",
   "language": "python",
   "name": "python3"
  },
  "language_info": {
   "codemirror_mode": {
    "name": "ipython",
    "version": 3
   },
   "file_extension": ".py",
   "mimetype": "text/x-python",
   "name": "python",
   "nbconvert_exporter": "python",
   "pygments_lexer": "ipython3",
   "version": "3.6.8"
  }
 },
 "nbformat": 4,
 "nbformat_minor": 2
}
