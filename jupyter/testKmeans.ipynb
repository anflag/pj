{
 "cells": [
  {
   "cell_type": "code",
   "execution_count": 1,
   "metadata": {},
   "outputs": [
    {
     "data": {
      "text/html": [
       "<div>\n",
       "<style scoped>\n",
       "    .dataframe tbody tr th:only-of-type {\n",
       "        vertical-align: middle;\n",
       "    }\n",
       "\n",
       "    .dataframe tbody tr th {\n",
       "        vertical-align: top;\n",
       "    }\n",
       "\n",
       "    .dataframe thead th {\n",
       "        text-align: right;\n",
       "    }\n",
       "</style>\n",
       "<table border=\"1\" class=\"dataframe\">\n",
       "  <thead>\n",
       "    <tr style=\"text-align: right;\">\n",
       "      <th></th>\n",
       "      <th>supply_unit</th>\n",
       "      <th>B</th>\n",
       "      <th>user_id</th>\n",
       "      <th>chaobiaoduan</th>\n",
       "      <th>station</th>\n",
       "      <th>regions</th>\n",
       "      <th>address</th>\n",
       "      <th>fee</th>\n",
       "      <th>flat_power</th>\n",
       "      <th>valley_power</th>\n",
       "      <th>bill_post_time</th>\n",
       "      <th>payment_time</th>\n",
       "      <th>channel</th>\n",
       "      <th>location</th>\n",
       "      <th>Lng</th>\n",
       "      <th>Lat</th>\n",
       "      <th>payment_time_2</th>\n",
       "      <th>bill_post_time_2</th>\n",
       "      <th>pay_days</th>\n",
       "    </tr>\n",
       "  </thead>\n",
       "  <tbody>\n",
       "    <tr>\n",
       "      <th>0</th>\n",
       "      <td>沪东营销分中心</td>\n",
       "      <td>6.416346e+09</td>\n",
       "      <td>1226239768</td>\n",
       "      <td>A135G6</td>\n",
       "      <td>市区九龙</td>\n",
       "      <td>虹口区</td>\n",
       "      <td>上海市虹口区物华路118弄4号2202室</td>\n",
       "      <td>60.1</td>\n",
       "      <td>86.0</td>\n",
       "      <td>23.0</td>\n",
       "      <td>20180206.0</td>\n",
       "      <td>2018-02-23 09:38:30</td>\n",
       "      <td>支付宝</td>\n",
       "      <td>上海市虹口区物华路118弄</td>\n",
       "      <td>121.5</td>\n",
       "      <td>31.265</td>\n",
       "      <td>2018-02-23 09:38:30</td>\n",
       "      <td>2018-02-06</td>\n",
       "      <td>17.0</td>\n",
       "    </tr>\n",
       "    <tr>\n",
       "      <th>1</th>\n",
       "      <td>沪东营销分中心</td>\n",
       "      <td>6.416346e+09</td>\n",
       "      <td>1226238000</td>\n",
       "      <td>A135G6</td>\n",
       "      <td>市区九龙</td>\n",
       "      <td>虹口区</td>\n",
       "      <td>上海市虹口区物华路118弄3号2004室</td>\n",
       "      <td>536.0</td>\n",
       "      <td>701.0</td>\n",
       "      <td>337.0</td>\n",
       "      <td>20180206.0</td>\n",
       "      <td>2018-02-21 17:51:21</td>\n",
       "      <td>付费通</td>\n",
       "      <td>上海市虹口区物华路118弄</td>\n",
       "      <td>121.5</td>\n",
       "      <td>31.265</td>\n",
       "      <td>2018-02-21 17:51:21</td>\n",
       "      <td>2018-02-06</td>\n",
       "      <td>15.0</td>\n",
       "    </tr>\n",
       "    <tr>\n",
       "      <th>2</th>\n",
       "      <td>沪东营销分中心</td>\n",
       "      <td>6.416345e+09</td>\n",
       "      <td>1226237443</td>\n",
       "      <td>A135G6</td>\n",
       "      <td>市区九龙</td>\n",
       "      <td>虹口区</td>\n",
       "      <td>上海市虹口区物华路118弄3号604室</td>\n",
       "      <td>126.1</td>\n",
       "      <td>179.0</td>\n",
       "      <td>51.0</td>\n",
       "      <td>20180206.0</td>\n",
       "      <td>2018-02-06 15:25:39</td>\n",
       "      <td>支付宝</td>\n",
       "      <td>上海市虹口区物华路118弄</td>\n",
       "      <td>121.5</td>\n",
       "      <td>31.265</td>\n",
       "      <td>2018-02-06 15:25:39</td>\n",
       "      <td>2018-02-06</td>\n",
       "      <td>0.0</td>\n",
       "    </tr>\n",
       "    <tr>\n",
       "      <th>3</th>\n",
       "      <td>沪东营销分中心</td>\n",
       "      <td>6.416345e+09</td>\n",
       "      <td>1226237430</td>\n",
       "      <td>A135G6</td>\n",
       "      <td>市区九龙</td>\n",
       "      <td>虹口区</td>\n",
       "      <td>上海市虹口区物华路118弄3号603室</td>\n",
       "      <td>131.5</td>\n",
       "      <td>128.0</td>\n",
       "      <td>171.0</td>\n",
       "      <td>20180206.0</td>\n",
       "      <td>2018-02-06 17:38:07</td>\n",
       "      <td>支付宝</td>\n",
       "      <td>上海市虹口区物华路118弄</td>\n",
       "      <td>121.5</td>\n",
       "      <td>31.265</td>\n",
       "      <td>2018-02-06 17:38:07</td>\n",
       "      <td>2018-02-06</td>\n",
       "      <td>0.0</td>\n",
       "    </tr>\n",
       "    <tr>\n",
       "      <th>4</th>\n",
       "      <td>沪东营销分中心</td>\n",
       "      <td>6.416355e+09</td>\n",
       "      <td>1226625666</td>\n",
       "      <td>A135G6</td>\n",
       "      <td>市区九龙</td>\n",
       "      <td>虹口区</td>\n",
       "      <td>上海市虹口区物华路118弄5号2101室</td>\n",
       "      <td>25.8</td>\n",
       "      <td>561.0</td>\n",
       "      <td>238.0</td>\n",
       "      <td>20180206.0</td>\n",
       "      <td>2018-02-06 13:58:14</td>\n",
       "      <td>九龙抄表班</td>\n",
       "      <td>上海市虹口区物华路118弄</td>\n",
       "      <td>121.5</td>\n",
       "      <td>31.265</td>\n",
       "      <td>2018-02-06 13:58:14</td>\n",
       "      <td>2018-02-06</td>\n",
       "      <td>0.0</td>\n",
       "    </tr>\n",
       "  </tbody>\n",
       "</table>\n",
       "</div>"
      ],
      "text/plain": [
       "  supply_unit             B     user_id chaobiaoduan station regions  \\\n",
       "0     沪东营销分中心  6.416346e+09  1226239768       A135G6    市区九龙     虹口区   \n",
       "1     沪东营销分中心  6.416346e+09  1226238000       A135G6    市区九龙     虹口区   \n",
       "2     沪东营销分中心  6.416345e+09  1226237443       A135G6    市区九龙     虹口区   \n",
       "3     沪东营销分中心  6.416345e+09  1226237430       A135G6    市区九龙     虹口区   \n",
       "4     沪东营销分中心  6.416355e+09  1226625666       A135G6    市区九龙     虹口区   \n",
       "\n",
       "                address    fee  flat_power  valley_power  bill_post_time  \\\n",
       "0  上海市虹口区物华路118弄4号2202室   60.1        86.0          23.0      20180206.0   \n",
       "1  上海市虹口区物华路118弄3号2004室  536.0       701.0         337.0      20180206.0   \n",
       "2   上海市虹口区物华路118弄3号604室  126.1       179.0          51.0      20180206.0   \n",
       "3   上海市虹口区物华路118弄3号603室  131.5       128.0         171.0      20180206.0   \n",
       "4  上海市虹口区物华路118弄5号2101室   25.8       561.0         238.0      20180206.0   \n",
       "\n",
       "          payment_time channel       location    Lng     Lat  \\\n",
       "0  2018-02-23 09:38:30     支付宝  上海市虹口区物华路118弄  121.5  31.265   \n",
       "1  2018-02-21 17:51:21     付费通  上海市虹口区物华路118弄  121.5  31.265   \n",
       "2  2018-02-06 15:25:39     支付宝  上海市虹口区物华路118弄  121.5  31.265   \n",
       "3  2018-02-06 17:38:07     支付宝  上海市虹口区物华路118弄  121.5  31.265   \n",
       "4  2018-02-06 13:58:14   九龙抄表班  上海市虹口区物华路118弄  121.5  31.265   \n",
       "\n",
       "       payment_time_2 bill_post_time_2  pay_days  \n",
       "0 2018-02-23 09:38:30       2018-02-06      17.0  \n",
       "1 2018-02-21 17:51:21       2018-02-06      15.0  \n",
       "2 2018-02-06 15:25:39       2018-02-06       0.0  \n",
       "3 2018-02-06 17:38:07       2018-02-06       0.0  \n",
       "4 2018-02-06 13:58:14       2018-02-06       0.0  "
      ]
     },
     "execution_count": 1,
     "metadata": {},
     "output_type": "execute_result"
    }
   ],
   "source": [
    "import pandas as pd\n",
    "data = pd.read_pickle(\"../datasets/electric/201802_notna_date_data.pkl\")\n",
    "data.head()"
   ]
  },
  {
   "cell_type": "code",
   "execution_count": 2,
   "metadata": {},
   "outputs": [
    {
     "data": {
      "text/plain": [
       "supply_unit         7626738\n",
       "B                   7626738\n",
       "user_id             7626738\n",
       "chaobiaoduan        7626738\n",
       "station             5546748\n",
       "regions             7624888\n",
       "address             7626738\n",
       "fee                 7626738\n",
       "flat_power          7626551\n",
       "valley_power        7625323\n",
       "bill_post_time      7626738\n",
       "payment_time        7626738\n",
       "channel             7612515\n",
       "location            7626738\n",
       "Lng                 7626738\n",
       "Lat                 7626738\n",
       "payment_time_2      7626738\n",
       "bill_post_time_2    7626738\n",
       "pay_days            7626738\n",
       "dtype: int64"
      ]
     },
     "execution_count": 2,
     "metadata": {},
     "output_type": "execute_result"
    }
   ],
   "source": [
    "data.count()"
   ]
  },
  {
   "cell_type": "code",
   "execution_count": 3,
   "metadata": {},
   "outputs": [],
   "source": [
    "data_sample1 = data.sample(n=2000)"
   ]
  },
  {
   "cell_type": "code",
   "execution_count": 4,
   "metadata": {},
   "outputs": [
    {
     "data": {
      "text/plain": [
       "supply_unit         2000\n",
       "B                   2000\n",
       "user_id             2000\n",
       "chaobiaoduan        2000\n",
       "station             1459\n",
       "regions             1999\n",
       "address             2000\n",
       "fee                 2000\n",
       "flat_power          2000\n",
       "valley_power        2000\n",
       "bill_post_time      2000\n",
       "payment_time        2000\n",
       "channel             1997\n",
       "location            2000\n",
       "Lng                 2000\n",
       "Lat                 2000\n",
       "payment_time_2      2000\n",
       "bill_post_time_2    2000\n",
       "pay_days            2000\n",
       "dtype: int64"
      ]
     },
     "execution_count": 4,
     "metadata": {},
     "output_type": "execute_result"
    }
   ],
   "source": [
    "data_sample1.count()"
   ]
  },
  {
   "cell_type": "code",
   "execution_count": 17,
   "metadata": {},
   "outputs": [
    {
     "data": {
      "text/html": [
       "<div>\n",
       "<style scoped>\n",
       "    .dataframe tbody tr th:only-of-type {\n",
       "        vertical-align: middle;\n",
       "    }\n",
       "\n",
       "    .dataframe tbody tr th {\n",
       "        vertical-align: top;\n",
       "    }\n",
       "\n",
       "    .dataframe thead th {\n",
       "        text-align: right;\n",
       "    }\n",
       "</style>\n",
       "<table border=\"1\" class=\"dataframe\">\n",
       "  <thead>\n",
       "    <tr style=\"text-align: right;\">\n",
       "      <th></th>\n",
       "      <th>fee</th>\n",
       "      <th>pay_days</th>\n",
       "      <th>flat_power</th>\n",
       "    </tr>\n",
       "  </thead>\n",
       "  <tbody>\n",
       "    <tr>\n",
       "      <th>6370877</th>\n",
       "      <td>193.9</td>\n",
       "      <td>20.0</td>\n",
       "      <td>273.0</td>\n",
       "    </tr>\n",
       "    <tr>\n",
       "      <th>7290927</th>\n",
       "      <td>12.0</td>\n",
       "      <td>11.0</td>\n",
       "      <td>18.0</td>\n",
       "    </tr>\n",
       "    <tr>\n",
       "      <th>355673</th>\n",
       "      <td>106.0</td>\n",
       "      <td>4.0</td>\n",
       "      <td>127.0</td>\n",
       "    </tr>\n",
       "    <tr>\n",
       "      <th>6293211</th>\n",
       "      <td>66.9</td>\n",
       "      <td>8.0</td>\n",
       "      <td>102.0</td>\n",
       "    </tr>\n",
       "    <tr>\n",
       "      <th>6361008</th>\n",
       "      <td>231.5</td>\n",
       "      <td>17.0</td>\n",
       "      <td>335.0</td>\n",
       "    </tr>\n",
       "  </tbody>\n",
       "</table>\n",
       "</div>"
      ],
      "text/plain": [
       "           fee  pay_days  flat_power\n",
       "6370877  193.9      20.0       273.0\n",
       "7290927   12.0      11.0        18.0\n",
       "355673   106.0       4.0       127.0\n",
       "6293211   66.9       8.0       102.0\n",
       "6361008  231.5      17.0       335.0"
      ]
     },
     "execution_count": 17,
     "metadata": {},
     "output_type": "execute_result"
    }
   ],
   "source": [
    "sample_a = data_sample1.loc[:,['fee','pay_days','flat_power']]\n",
    "sample_a.head()"
   ]
  },
  {
   "cell_type": "code",
   "execution_count": 18,
   "metadata": {},
   "outputs": [
    {
     "data": {
      "text/plain": [
       "array([[193.9,  20. , 273. ],\n",
       "       [ 12. ,  11. ,  18. ],\n",
       "       [106. ,   4. , 127. ],\n",
       "       ...,\n",
       "       [ 63.8,  55. ,  86. ],\n",
       "       [397.8,  15. , 513. ],\n",
       "       [116.8,   7. , 151. ]])"
      ]
     },
     "execution_count": 18,
     "metadata": {},
     "output_type": "execute_result"
    }
   ],
   "source": [
    "# 将sample_a 转换成数组\n",
    "a_1 = sample_a.values\n",
    "a_1"
   ]
  },
  {
   "cell_type": "code",
   "execution_count": 19,
   "metadata": {},
   "outputs": [
    {
     "name": "stdout",
     "output_type": "stream",
     "text": [
      "           fee   pay_days   flat_power\n",
      "0   267.973780  14.365854   358.573171\n",
      "1    85.104582  15.622785   113.388186\n",
      "2  1656.808333  14.750000  2027.666667\n",
      "3   582.167347  14.619048   789.285714\n"
     ]
    },
    {
     "data": {
      "image/png": "[encoded data removed]",
      "text/plain": [
       "<Figure size 800x640 with 1 Axes>"
      ]
     },
     "metadata": {
      "needs_background": "light"
     },
     "output_type": "display_data"
    }
   ],
   "source": [
    "from sklearn.cluster import KMeans\n",
    "import matplotlib.pyplot as plt\n",
    "\n",
    "# n_clusters=4，参数设置需要的分类这里设置成4类\n",
    "kmeans = KMeans(n_clusters=4, random_state=0).fit(a_1)\n",
    "#center为各类的聚类中心，保存在df_center的DataFrame中给数据加上标签\n",
    "center = kmeans.cluster_centers_\n",
    "df_center = pd.DataFrame(center, columns=['fee','pay_days','flat_power'])\n",
    "print(df_center)\n",
    "\n",
    "#标注每个点的聚类结果\n",
    "labels = kmeans.labels_\n",
    "#将原始数据中的索引设置成得到的数据类别，根据索引提取各类数据并保存\n",
    "df = pd.DataFrame(a_1, index=labels, columns=['fee','pay_days','flat_power'])\n",
    "df1 = df[df.index==0]\n",
    "df2 = df[df.index==1]\n",
    "df3 = df[df.index==2]\n",
    "df4 = df[df.index==3]\n",
    "#绘图\n",
    "plt.figure(figsize=(10,8), dpi=80)\n",
    "axes = plt.subplot()\n",
    "#s表示点大小，c表示color，marker表示点类型，DataFrame数据列引用参考博客其他文章\n",
    "type1 = axes.scatter(df1.loc[:,['fee']], df1.loc[:,['pay_days']], s=50, c='red', marker='d')\n",
    "type2 = axes.scatter(df2.loc[:,['fee']], df2.loc[:,['pay_days']], s=50, c='green', marker='*')\n",
    "type3 = axes.scatter(df3.loc[:,['fee']], df3.loc[:,['pay_days']], s=50, c='brown', marker='p')\n",
    "type4 = axes.scatter(df4.loc[:,['fee']], df4.loc[:,['pay_days']], s=50, c='black')\n",
    "#显示聚类中心数据点\n",
    "type_center = axes.scatter(df_center.loc[:,'fee'], df_center.loc[:,'pay_days'], s=40, c='blue')\n",
    "plt.xlabel('fee', fontsize=16)\n",
    "plt.ylabel('pay_days', fontsize=16)\n",
    "axes.legend((type1, type2, type3, type4, type_center), ('0','1','2','3','center'), loc=1)\n",
    "plt.show()"
   ]
  },
  {
   "cell_type": "code",
   "execution_count": 20,
   "metadata": {},
   "outputs": [
    {
     "name": "stdout",
     "output_type": "stream",
     "text": [
      "0.6129616025512798\n"
     ]
    },
    {
     "data": {
      "image/png": "[encoded data removed]",
      "text/plain": [
       "<Figure size 432x288 with 1 Axes>"
      ]
     },
     "metadata": {
      "needs_background": "light"
     },
     "output_type": "display_data"
    }
   ],
   "source": [
    "from sklearn.datasets import make_blobs\n",
    "from sklearn.cluster import KMeans\n",
    "from sklearn.metrics import silhouette_score\n",
    "import matplotlib.pyplot as plt\n",
    "\n",
    "\n",
    "# 生成数据\n",
    "# X, y = make_blobs(n_samples=200, centers=3, n_features=5, random_state=0)\n",
    "X = a_1\n",
    "y = ['fee','pay_days','flat_power']\n",
    "\n",
    "# k-means聚类\n",
    "km = KMeans(n_clusters=3)\n",
    "km.fit(X)\n",
    "y_predict = km.predict(X)\n",
    "\n",
    "# 评估聚类效果\n",
    "print(silhouette_score(X, y_predict))\n",
    "# 0.72\n",
    "\n",
    "# 绘制聚类结果图\n",
    "color = [\"red\", \"green\", \"blue\"]\n",
    "colors = [color[i] for i in y_predict]\n",
    "\n",
    "plt.figure()\n",
    "plt.scatter(X[:, 1], X[:, 2], color=colors)\n",
    "plt.show()"
   ]
  },
  {
   "cell_type": "code",
   "execution_count": 11,
   "metadata": {},
   "outputs": [
    {
     "data": {
      "image/png": "[encoded data removed]",
      "text/plain": [
       "<Figure size 432x288 with 1 Axes>"
      ]
     },
     "metadata": {
      "needs_background": "light"
     },
     "output_type": "display_data"
    }
   ],
   "source": [
    "d=[]\n",
    "for i in range(1,11):    #k取值1~11，做kmeans聚类，看不同k值对应的簇内误差平方和\n",
    "    km=KMeans(n_clusters=i,init='k-means++',n_init=10,max_iter=300,random_state=0)\n",
    "    km.fit(X)\n",
    "    d.append(km.inertia_)  #inertia簇内误差平方和\n",
    "\n",
    "plt.plot(range(1,11),d,marker='o')\n",
    "plt.xlabel('number of clusters')\n",
    "plt.ylabel('distortions')\n",
    "plt.show()"
   ]
  },
  {
   "cell_type": "code",
   "execution_count": null,
   "metadata": {},
   "outputs": [],
   "source": []
  }
 ],
 "metadata": {
  "kernelspec": {
   "display_name": "Python 3",
   "language": "python",
   "name": "python3"
  },
  "language_info": {
   "codemirror_mode": {
    "name": "ipython",
    "version": 3
   },
   "file_extension": ".py",
   "mimetype": "text/x-python",
   "name": "python",
   "nbconvert_exporter": "python",
   "pygments_lexer": "ipython3",
   "version": "3.6.8"
  }
 },
 "nbformat": 4,
 "nbformat_minor": 2
}
